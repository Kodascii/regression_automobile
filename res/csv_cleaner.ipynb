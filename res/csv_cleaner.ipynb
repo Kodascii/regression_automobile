{
 "cells": [
  {
   "cell_type": "code",
   "execution_count": null,
   "metadata": {},
   "outputs": [],
   "source": [
    "# Besoin pour clean_mileage_engine_power\n",
    "import pandas as pd\n",
    "import numpy as np\n",
    "\n",
    "def clean_mileage(mileage):\n",
    "    if pd.isna(mileage):  # Gérer les valeurs NaN\n",
    "        return np.nan\n",
    "    num, unit = mileage.split(' ')[0], mileage.split(' ')[1]\n",
    "    num = float(num)\n",
    "    if unit == 'km/kg':\n",
    "        return num * 1.40\n",
    "    elif unit == 'kmpl':\n",
    "        return num\n",
    "    else:\n",
    "        return np.nan\n",
    "    \n",
    "def clean_engine(engine):\n",
    "    if pd.isna(engine):\n",
    "        return np.nan\n",
    "    num, unit = engine.split(' ')[0], engine.split(' ')[1]\n",
    "    num = float(num)\n",
    "    if unit == 'CC':\n",
    "        return num\n",
    "    \n",
    "def clean_power(power):\n",
    "    if pd.isna(power) or power.split(' ')[0].lower() == 'null':\n",
    "        return np.nan\n",
    "    num, unit = power.split(' ')[0], power.split(' ')[1]\n",
    "    try:\n",
    "        num = float(num)\n",
    "        if unit == 'bhp':\n",
    "            return num\n",
    "    except ValueError:\n",
    "        return np.nan"
   ]
  },
  {
   "cell_type": "code",
   "execution_count": null,
   "metadata": {},
   "outputs": [],
   "source": [
    "def clean_mileage_engine_power_(df):\n",
    "    df['Mileage'] = df['Mileage'].apply(clean_mileage)\n",
    "    df['Engine'] = df['Engine'].apply(clean_engine)\n",
    "    df['Power'] = df['Power'].apply(clean_power)\n",
    "    return df"
   ]
  }
 ],
 "metadata": {
  "language_info": {
   "name": "python"
  }
 },
 "nbformat": 4,
 "nbformat_minor": 2
}
