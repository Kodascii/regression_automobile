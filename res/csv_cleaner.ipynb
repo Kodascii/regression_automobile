{
 "cells": [
  {
   "cell_type": "markdown",
   "metadata": {},
   "source": [
    "## Initialisation des fonctions pour le netoyage"
   ]
  },
  {
   "cell_type": "code",
   "execution_count": 4,
   "metadata": {},
   "outputs": [],
   "source": [
    "# Besoin pour clean_mileage_engine_power\n",
    "import pandas as pd\n",
    "import numpy as np\n",
    "\n",
    "\n",
    "name_info2del = {\n",
    "    # 'Maruti' : set(['(abs)', '(cng)', 'Airbag', 'Aktiv', 'Alpha', 'DX', 'DX2', 'Immobiliser', 'With']),\n",
    "    # 'Hyundai': set(['(0)', '(o)', 'With']),\n",
    "    # 'Honda'  : set(['(at)', '(e)']),\n",
    "    # 'Audi'   : set(['(at)', '(e)']),\n",
    "}\n",
    "\n",
    "\n",
    "\n",
    "\n",
    "def to_pascal_case(str):\n",
    "    words = str.split()\n",
    "    pascal_case_words = [word.capitalize() for word in words]\n",
    "    pascal_case_string = ''.join(pascal_case_words)\n",
    "    return pascal_case_string\n",
    "\n",
    "\n",
    "\n",
    "def clean_mileage(mileage):\n",
    "    if pd.isna(mileage):  # Gérer les valeurs NaN\n",
    "        return np.nan\n",
    "    num, unit = mileage.split(' ')[0], mileage.split(' ')[1]\n",
    "    num = float(num)\n",
    "    if unit == 'km/kg':\n",
    "        return num * 1.40\n",
    "    elif unit == 'kmpl':\n",
    "        return num\n",
    "    else:\n",
    "        return np.nan\n",
    "    \n",
    "def clean_engine(engine):\n",
    "    if pd.isna(engine):\n",
    "        return np.nan\n",
    "    num, unit = engine.split(' ')[0], engine.split(' ')[1]\n",
    "    num = float(num)\n",
    "    if unit == 'CC':\n",
    "        return num\n",
    "    \n",
    "def clean_power(power):\n",
    "    if pd.isna(power) or power.split(' ')[0].lower() == 'null':\n",
    "        return np.nan\n",
    "    num, unit = power.split(' ')[0], power.split(' ')[1]\n",
    "    try:\n",
    "        num = float(num)\n",
    "        if unit == 'bhp':\n",
    "            return num\n",
    "    except ValueError:\n",
    "        return np.nan\n",
    "\n",
    "def clean_name(df):\n",
    "    df.insert(1, 'Version', '')\n",
    "\n",
    "    for index in df.index:\n",
    "        name = df.at[index, 'Name']\n",
    "        ws_idx = name.find(' ')\n",
    "        vehicle_model = name[:ws_idx]\n",
    "        vehicle_version = name[ws_idx+1:]\n",
    "        vv_split = list(map(lambda s: to_pascal_case(s), vehicle_version.split(' ')))\n",
    "\n",
    "        if (vehicle_model in name_info2del):\n",
    "            formated_version = (set(vv_split) - name_info2del[vehicle_model])\n",
    "        else:\n",
    "            formated_version = set(vv_split)\n",
    "        #formated_version -= name_info2del_default\n",
    "        formated_version = ' '.join(sorted(list(formated_version)))\n",
    "\n",
    "        df.at[index, 'Name'] = vehicle_model\n",
    "        df.at[index, 'Version'] = formated_version\n",
    "\n",
    "    return df"
   ]
  },
  {
   "cell_type": "markdown",
   "metadata": {},
   "source": [
    "## Composée des fonctions"
   ]
  },
  {
   "cell_type": "code",
   "execution_count": 19,
   "metadata": {},
   "outputs": [],
   "source": [
    "def clean_csv(df):\n",
    "    df['Mileage'] = df['Mileage'].apply(clean_mileage)\n",
    "    df['Engine'] = df['Engine'].apply(clean_engine)\n",
    "    df['Power'] = df['Power'].apply(clean_power)\n",
    "    df = clean_name(df)\n",
    "    return df"
   ]
  },
  {
   "cell_type": "markdown",
   "metadata": {},
   "source": [
    "## Génération du fichier CSV"
   ]
  },
  {
   "cell_type": "code",
   "execution_count": 20,
   "metadata": {},
   "outputs": [],
   "source": [
    "data_train = pd.read_csv('train.csv')\n",
    "data_test = pd.read_csv('test.csv')\n",
    "\n",
    "clean_train = clean_csv(data_train)\n",
    "clean_train.to_csv('mimified_train.csv', index=False)\n",
    "\n",
    "clean_test = clean_csv(data_test)\n",
    "clean_test.to_csv('mimified_test.csv', index=False)"
   ]
  }
 ],
 "metadata": {
  "kernelspec": {
   "display_name": "py380",
   "language": "python",
   "name": "python3"
  },
  "language_info": {
   "codemirror_mode": {
    "name": "ipython",
    "version": 3
   },
   "file_extension": ".py",
   "mimetype": "text/x-python",
   "name": "python",
   "nbconvert_exporter": "python",
   "pygments_lexer": "ipython3",
   "version": "3.11.0"
  }
 },
 "nbformat": 4,
 "nbformat_minor": 2
}
